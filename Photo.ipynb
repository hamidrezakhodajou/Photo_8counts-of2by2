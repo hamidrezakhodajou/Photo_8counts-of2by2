{
 "cells": [
  {
   "cell_type": "code",
   "execution_count": 1,
   "id": "060d6bb5",
   "metadata": {},
   "outputs": [
    {
     "name": "stdout",
     "output_type": "stream",
     "text": [
      "Requirement already satisfied: pillow in c:\\anaconda3\\envs\\heart\\lib\\site-packages (11.1.0)\n",
      "Note: you may need to restart the kernel to use updated packages.\n"
     ]
    }
   ],
   "source": [
    "pip install pillow\n"
   ]
  },
  {
   "cell_type": "code",
   "execution_count": 3,
   "id": "c2ed1897",
   "metadata": {},
   "outputs": [],
   "source": [
    "src_path = r\"C:\\Users\\khodajoh\\Downloads\\I94\\600.jpeg\"\n"
   ]
  },
  {
   "cell_type": "code",
   "execution_count": 4,
   "id": "c2b48e60",
   "metadata": {},
   "outputs": [
    {
     "name": "stdout",
     "output_type": "stream",
     "text": [
      "Saved: C:\\Users\\khodajoh\\Downloads\\I94\\EAD_2x2_on_6x6_300dpi.jpg\n"
     ]
    }
   ],
   "source": [
    "# pip install pillow\n",
    "from PIL import Image, ImageOps\n",
    "\n",
    "src_path   = r\"C:\\Users\\khodajoh\\Downloads\\I94\\600.jpeg\"  # مسیر کامل فایل\n",
    "dpi        = 300\n",
    "tile_inch  = 2\n",
    "sheet_inch = 6\n",
    "\n",
    "tile_px  = tile_inch  * dpi\n",
    "sheet_px = sheet_inch * dpi\n",
    "margin   = (sheet_px - 2*tile_px) // 2\n",
    "\n",
    "im = Image.open(src_path).convert(\"RGB\")\n",
    "im_2x2 = ImageOps.fit(im, (tile_px, tile_px), method=Image.LANCZOS)\n",
    "\n",
    "sheet = Image.new(\"RGB\", (sheet_px, sheet_px), \"white\")\n",
    "positions = [\n",
    "    (margin,               margin),\n",
    "    (margin + tile_px,     margin),\n",
    "    (margin,               margin + tile_px),\n",
    "    (margin + tile_px,     margin + tile_px)\n",
    "]\n",
    "for pos in positions:\n",
    "    sheet.paste(im_2x2, pos)\n",
    "\n",
    "out_path = r\"C:\\Users\\khodajoh\\Downloads\\I94\\EAD_2x2_on_6x6_300dpi.jpg\"\n",
    "sheet.save(out_path, quality=95, dpi=(dpi, dpi))\n",
    "print(\"Saved:\", out_path)\n"
   ]
  },
  {
   "cell_type": "code",
   "execution_count": 7,
   "id": "810b78a9",
   "metadata": {},
   "outputs": [
    {
     "name": "stdout",
     "output_type": "stream",
     "text": [
      "✅ Saved: C:\\Users\\khodajoh\\Downloads\\I94\\EAD_many_2x2_on_8x8_300dpi.jpg\n"
     ]
    }
   ],
   "source": [
    "# pip install pillow\n",
    "from PIL import Image, ImageOps\n",
    "\n",
    "# مسیر فایل‌ها\n",
    "src_path  = r\"C:\\Users\\khodajoh\\Downloads\\I94\\600.jpeg\"\n",
    "out_path  = r\"C:\\Users\\khodajoh\\Downloads\\I94\\EAD_many_2x2_on_8x8_300dpi.jpg\"\n",
    "\n",
    "# تنظیمات\n",
    "dpi        = 300\n",
    "tile_inch  = 2\n",
    "sheet_inch = 8\n",
    "\n",
    "tile_px  = int(tile_inch  * dpi)   # 600px\n",
    "sheet_px = int(sheet_inch * dpi)   # 2400px\n",
    "\n",
    "# بارگذاری عکس و تنظیم به اندازه‌ی دقیق 2×2 اینچ\n",
    "im = Image.open(src_path).convert(\"RGB\")\n",
    "im_2x2 = ImageOps.fit(im, (tile_px, tile_px), method=Image.LANCZOS)\n",
    "\n",
    "# ایجاد صفحه‌ی سفید 8×8 اینچ\n",
    "sheet = Image.new(\"RGB\", (sheet_px, sheet_px), \"white\")\n",
    "\n",
    "# چسباندن 4×4 عکس 2×2 برای پر کردن کل صفحه\n",
    "for row in range(4):\n",
    "    for col in range(4):\n",
    "        x = col * tile_px\n",
    "        y = row * tile_px\n",
    "        sheet.paste(im_2x2, (x, y))\n",
    "\n",
    "# ذخیره‌ی خروجی\n",
    "sheet.save(out_path, quality=95, dpi=(dpi, dpi))\n",
    "print(\"✅ Saved:\", out_path)\n"
   ]
  },
  {
   "cell_type": "code",
   "execution_count": 8,
   "id": "93b325bb",
   "metadata": {},
   "outputs": [
    {
     "name": "stdout",
     "output_type": "stream",
     "text": [
      "Saved: C:\\Users\\khodajoh\\Downloads\\I94\\EAD_2x2_on_8x8_300dpi.jpg\n"
     ]
    }
   ],
   "source": [
    "from PIL import Image, ImageOps\n",
    "\n",
    "src_path   = r\"C:\\Users\\khodajoh\\Downloads\\I94\\600.jpeg\"\n",
    "dpi        = 300\n",
    "tile_inch  = 2\n",
    "sheet_inch = 8\n",
    "\n",
    "tile_px  = tile_inch  * dpi      # 600 px\n",
    "sheet_px = sheet_inch * dpi      # 2400 px\n",
    "im = Image.open(src_path).convert(\"RGB\")\n",
    "im_2x2 = ImageOps.fit(im, (tile_px, tile_px), method=Image.LANCZOS)\n",
    "\n",
    "sheet = Image.new(\"RGB\", (sheet_px, sheet_px), \"white\")\n",
    "\n",
    "for i in range(4):      # 4 ستون\n",
    "    for j in range(4):  # 4 ردیف\n",
    "        x = i * tile_px\n",
    "        y = j * tile_px\n",
    "        sheet.paste(im_2x2, (x, y))\n",
    "\n",
    "out_path = r\"C:\\Users\\khodajoh\\Downloads\\I94\\EAD_2x2_on_8x8_300dpi.jpg\"\n",
    "sheet.save(out_path, quality=95, dpi=(dpi, dpi))\n",
    "print(\"Saved:\", out_path)\n"
   ]
  }
 ],
 "metadata": {
  "kernelspec": {
   "display_name": "heart",
   "language": "python",
   "name": "python3"
  },
  "language_info": {
   "codemirror_mode": {
    "name": "ipython",
    "version": 3
   },
   "file_extension": ".py",
   "mimetype": "text/x-python",
   "name": "python",
   "nbconvert_exporter": "python",
   "pygments_lexer": "ipython3",
   "version": "3.11.6"
  }
 },
 "nbformat": 4,
 "nbformat_minor": 5
}
